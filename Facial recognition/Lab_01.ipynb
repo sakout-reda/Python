{
 "cells": [
  {
   "cell_type": "markdown",
   "id": "345a5c8a",
   "metadata": {},
   "source": [
    "#Lab 11: Programmation classique sous Python"
   ]
  },
  {
   "cell_type": "markdown",
   "id": "f4f2204a",
   "metadata": {},
   "source": [
    "#Random image with face recognition"
   ]
  },
  {
   "cell_type": "code",
   "execution_count": 31,
   "id": "3988b75a",
   "metadata": {},
   "outputs": [
    {
     "name": "stdout",
     "output_type": "stream",
     "text": [
      "Name: img_69.jpg\n"
     ]
    }
   ],
   "source": [
    "from random import choice, randint\n",
    "from PIL import Image, ImageDraw\n",
    "import face_recognition\n",
    "img = randint(1,100)\n",
    "print(\"Name: img_\"+str(img)+\".jpg\")\n",
    "image = face_recognition.load_image_file(\"photos_o22/img_\"+str(img)+\".jpg\")\n",
    "face_locations = face_recognition.face_locations(image)\n",
    "face_encodings = face_recognition.face_encodings(image, face_locations)\n",
    "pil_image = Image.fromarray(image)\n",
    "draw = ImageDraw.Draw(pil_image)\n",
    "for (top, right, bottom, left), face_encoding in zip(face_locations, face_encodings):\n",
    "    name = \"Unknown\"\n",
    "    draw.rectangle(((left, top), (right, bottom)), outline=(0, 0, 255))\n",
    "    text_width, text_height = draw.textsize(name)\n",
    "    draw.rectangle(((left, bottom - text_height - 10), (right, bottom)), fill=(0, 0, 255), outline=(0, 0, 255))\n",
    "    draw.text((left + 6, bottom - text_height - 5), name, fill=(255, 255, 255, 255))\n",
    "del draw\n",
    "pil_image.show()"
   ]
  },
  {
   "cell_type": "code",
   "execution_count": null,
   "id": "5c5daf7a",
   "metadata": {},
   "outputs": [],
   "source": []
  }
 ],
 "metadata": {
  "kernelspec": {
   "display_name": "Python 3 (ipykernel)",
   "language": "python",
   "name": "python3"
  },
  "language_info": {
   "codemirror_mode": {
    "name": "ipython",
    "version": 3
   },
   "file_extension": ".py",
   "mimetype": "text/x-python",
   "name": "python",
   "nbconvert_exporter": "python",
   "pygments_lexer": "ipython3",
   "version": "3.8.12"
  }
 },
 "nbformat": 4,
 "nbformat_minor": 5
}
